{
  "cells": [
    {
      "cell_type": "markdown",
      "metadata": {
        "colab_type": "text",
        "id": "view-in-github"
      },
      "source": [
        "<a href=\"https://colab.research.google.com/github/davidjeiel/lista-links/blob/master/ListaLinks.ipynb\" target=\"_parent\"><img src=\"https://colab.research.google.com/assets/colab-badge.svg\" alt=\"Open In Colab\"/></a>"
      ]
    },
    {
      "cell_type": "code",
      "execution_count": null,
      "metadata": {
        "colab": {
          "base_uri": "https://localhost:8080/"
        },
        "id": "mnHTZHIZJt3u",
        "outputId": "c42d3971-40e4-4176-ab1b-3c7622aaf7b5"
      },
      "outputs": [
        {
          "name": "stderr",
          "output_type": "stream",
          "text": [
            "Processando links:  50%|█████     | 59/117 [03:45<04:01,  4.16s/link]"
          ]
        }
      ],
      "source": [
        "#@title Captura de links do site escolhido {display-mode: \"form\"}\n",
        "# This code will be hidden when the notebook is loaded.\n",
        "import requests\n",
        "import pandas as pd\n",
        "from bs4 import BeautifulSoup\n",
        "from urllib.parse import urlparse, urljoin, urldefrag\n",
        "from tqdm import tqdm\n",
        "\n",
        "def check_links(url):\n",
        "    # Faz a requisição HTTP para obter o conteúdo da página\n",
        "    response = requests.get(url)\n",
        "    if response.status_code != 200:\n",
        "        print(f\"Erro ao acessar {url}. Status de requisição: {response.status_code}\")\n",
        "        return []\n",
        "\n",
        "    # Analisa o HTML da página usando o BeautifulSoup\n",
        "    soup = BeautifulSoup(response.content, 'html.parser')\n",
        "\n",
        "    # Obtém o domínio da URL base\n",
        "    parsed_url = urlparse(url)\n",
        "    base_domain = parsed_url.netloc\n",
        "\n",
        "    # Lista para armazenar os resultados\n",
        "    links = []\n",
        "\n",
        "    # Encontra todos os elementos <a> no HTML\n",
        "    for link in tqdm(soup.find_all('a'), desc=\"Processando links\", unit=\"link\"):\n",
        "        href = link.get('href')\n",
        "\n",
        "        if href is None:\n",
        "            continue\n",
        "\n",
        "        # Verifica o tipo de link\n",
        "        link_type = None\n",
        "        if href.startswith('tel:'):\n",
        "            link_type = 'tel'\n",
        "        elif href.startswith('mailto:'):\n",
        "            link_type = 'mailto'\n",
        "        elif href.startswith('#'):\n",
        "            link_type = 'anchor'\n",
        "        elif href.startswith('/'):\n",
        "            link_type = 'internal'\n",
        "        else:\n",
        "            link_type = 'external'\n",
        "\n",
        "        # Resolve links relativos para links absolutos\n",
        "        if href.startswith('/') or href.startswith('#'):\n",
        "            href = urljoin(url, href)\n",
        "\n",
        "        # Remove fragmento da URL (parte após #)\n",
        "        href = urldefrag(href)[0]\n",
        "\n",
        "        # Verifica se o link está no mesmo domínio ou é um link externo\n",
        "        parsed_href = urlparse(href)\n",
        "        if parsed_href.netloc == base_domain or parsed_href.netloc == '':\n",
        "            # Ignora links do tipo \"tel\"\n",
        "            if link_type == 'tel':\n",
        "                continue\n",
        "\n",
        "            # Faz a requisição HTTP para verificar o status do link\n",
        "            link_response = requests.head(href, allow_redirects=True)\n",
        "            link_status = link_response.status_code\n",
        "            links.append({\n",
        "                'page': url,\n",
        "                'link': href,\n",
        "                'status': link_status,\n",
        "                'type': link_type\n",
        "            })\n",
        "\n",
        "    return links\n",
        "\n",
        "\n",
        "# Exemplo de uso\n",
        "url = 'https://fgts.gov.br'  #@param\n",
        "pages = check_links(url)\n",
        "\n",
        "def check_links_on_pages(pages):\n",
        "    all_links = []\n",
        "\n",
        "    for page in tqdm(pages, desc=\"Verificando links na página: \", unit=\"página\"):\n",
        "        page_links = check_links(page['link'])\n",
        "        all_links.extend(page_links)\n",
        "\n",
        "    return all_links\n",
        "\n",
        "result = check_links_on_pages(pages)\n",
        "\n",
        "print('Escolha o tipo de resposta')\n",
        "print('1 - Exibição em tela')\n",
        "print('2 - Arquivo de texto')\n",
        "print('3 - Arquivo csv')\n",
        "print('4 - Arquivo xlsx')\n",
        "\n",
        "tipo_resposta = \"Arquivo XLSX\"  #@param ['Arquivo de texto', 'Arquivo CSV', 'Arquivo XLSX', 'Respostas em tela']\n",
        "#tipo_resposta = int(input())\n",
        "\n",
        "def switch(tipo_resposta):\n",
        "  if tipo_resposta == 'Respostas em tela':\n",
        "    # Exibição dos resultados em tela\n",
        "    for link in result:\n",
        "        print(link)\n",
        "  elif tipo_resposta == 'Arquivo de texto':\n",
        "    # Geração de arquivo TXT\n",
        "    with open('resultados.txt', 'w') as file:\n",
        "        for link in result:\n",
        "            file.write(str(link) + '\\n')\n",
        "  elif tipo_resposta == 'Arquivo CSV':\n",
        "    # Geração de arquivo CSV\n",
        "    df = pd.DataFrame(result)\n",
        "    df.to_csv('resultados.csv', index=False)\n",
        "  elif tipo_resposta == 'Arquivo XLSX':\n",
        "    # Geração de arquivo Excel (xlsx)\n",
        "    df = pd.DataFrame(result)\n",
        "    df.to_excel('resultados.xlsx', index=False)\n",
        "\n",
        "\n",
        "switch(tipo_resposta)"
      ]
    }
  ],
  "metadata": {
    "colab": {
      "authorship_tag": "ABX9TyP3lmfuQTtk/BgrsJwMDPdP",
      "include_colab_link": true,
      "provenance": []
    },
    "kernelspec": {
      "display_name": "Python 3",
      "name": "python3"
    },
    "language_info": {
      "name": "python"
    }
  },
  "nbformat": 4,
  "nbformat_minor": 0
}
